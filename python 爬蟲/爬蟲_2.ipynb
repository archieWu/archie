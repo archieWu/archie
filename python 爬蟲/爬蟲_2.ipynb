{
 "cells": [
  {
   "cell_type": "code",
   "execution_count": 35,
   "metadata": {},
   "outputs": [],
   "source": [
    "import requests\n",
    "import json\n",
    "from bs4 import BeautifulSoup as bs\n",
    "from lxml import html\n",
    "from lxml import cssselect"
   ]
  },
  {
   "cell_type": "code",
   "execution_count": 2,
   "metadata": {},
   "outputs": [],
   "source": [
    "# res = requests.get('https://www.ptt.cc/bbs/NBA/index.html')\n",
    "# res.encoding = 'utf8'"
   ]
  },
  {
   "cell_type": "code",
   "execution_count": 3,
   "metadata": {},
   "outputs": [],
   "source": [
    "# soup = bs(res.text,'lxml')"
   ]
  },
  {
   "cell_type": "code",
   "execution_count": 4,
   "metadata": {},
   "outputs": [],
   "source": [
    "# soup"
   ]
  },
  {
   "cell_type": "code",
   "execution_count": 5,
   "metadata": {},
   "outputs": [],
   "source": [
    "# raw_title = soup.find_all('div','title')"
   ]
  },
  {
   "cell_type": "code",
   "execution_count": 6,
   "metadata": {},
   "outputs": [],
   "source": [
    "# raw_title[0].text"
   ]
  },
  {
   "cell_type": "code",
   "execution_count": 7,
   "metadata": {},
   "outputs": [],
   "source": [
    "# raw_title[0].find('a').get('href')"
   ]
  },
  {
   "cell_type": "code",
   "execution_count": 8,
   "metadata": {},
   "outputs": [],
   "source": [
    "# results=[]\n",
    "# for i,j in enumerate(raw_title):\n",
    "#     k={}\n",
    "#     k['topic'] = raw_title[i].text\n",
    "#     k['url'] = raw_title[i].find('a').get('href')\n",
    "#     results.append(k)\n",
    "# print(results)"
   ]
  },
  {
   "cell_type": "code",
   "execution_count": 9,
   "metadata": {},
   "outputs": [],
   "source": [
    "# results=[]\n",
    "# for i in raw_title:\n",
    "#     k={}\n",
    "#     k['topic'] = i.a.string\n",
    "#     k['url'] = i.find('a').get('href')\n",
    "#     results.append(k)\n",
    "# print(results)"
   ]
  },
  {
   "cell_type": "code",
   "execution_count": 10,
   "metadata": {},
   "outputs": [],
   "source": [
    "# results=[]\n",
    "# for i in raw_title:\n",
    "#     try:\n",
    "#         result={}\n",
    "#         result['topic'] = i.text.strip()\n",
    "#         result['url'] = i.find('a').get('href')\n",
    "#         results.append(result)\n",
    "#     except Exception as e:\n",
    "#         print(e)\n",
    "# #         print(i)\n",
    "#         continue\n",
    "# print(results)"
   ]
  },
  {
   "cell_type": "code",
   "execution_count": 11,
   "metadata": {},
   "outputs": [],
   "source": [
    "# try:\n",
    "# #     None.get()\n",
    "#     1/0\n",
    "# except TypeError:\n",
    "#     print('type happened')\n",
    "# except AttributeError:\n",
    "#     print('AttributeError ha')\n",
    "# except Exception as e:\n",
    "#     print(e)\n",
    "#     print('有東西錯了')\n"
   ]
  },
  {
   "cell_type": "code",
   "execution_count": 12,
   "metadata": {},
   "outputs": [],
   "source": [
    "# soup.select('#main-container > div.r-list-container.action-bar-margin.bbs-screen > div:nth-child(2) > div.title > a')"
   ]
  },
  {
   "cell_type": "code",
   "execution_count": 13,
   "metadata": {},
   "outputs": [],
   "source": [
    "# row_titles = soup.select('.title > a')"
   ]
  },
  {
   "cell_type": "code",
   "execution_count": 14,
   "metadata": {},
   "outputs": [],
   "source": [
    "# results=[]\n",
    "# for i in row_titles:\n",
    "#     try:\n",
    "#         result={}\n",
    "#         result['topic'] = i.text\n",
    "#         result['url'] = i.get('href')\n",
    "#         results.append(result)\n",
    "#     except Exception as e:\n",
    "#         print(e)\n",
    "#         print(i)\n",
    "#         continue\n",
    "\n",
    "# print(results)"
   ]
  },
  {
   "cell_type": "code",
   "execution_count": 15,
   "metadata": {},
   "outputs": [],
   "source": [
    "# res = requests.get('https://tw.stock.yahoo.com/d/i/rank.php?t=vol&e=tse&n=100')\n",
    "# # res.encoding = 'utf8'\n",
    "# soup = bs(res.text,'lxml')"
   ]
  },
  {
   "cell_type": "code",
   "execution_count": 16,
   "metadata": {},
   "outputs": [],
   "source": [
    "# soup"
   ]
  },
  {
   "cell_type": "code",
   "execution_count": 17,
   "metadata": {},
   "outputs": [],
   "source": [
    "# row_titles = soup.select('td.name > a')"
   ]
  },
  {
   "cell_type": "code",
   "execution_count": 18,
   "metadata": {},
   "outputs": [],
   "source": [
    "# row_titles"
   ]
  },
  {
   "cell_type": "code",
   "execution_count": 19,
   "metadata": {},
   "outputs": [],
   "source": [
    "# results=[]\n",
    "# for i in row_titles:\n",
    "#     try:\n",
    "#         result={}\n",
    "#         result['topic'] = i.text\n",
    "#         result['url'] = i.get('href')\n",
    "#         results.append(result)\n",
    "#     except Exception as e:\n",
    "#         print(e)\n",
    "#         print(i)\n",
    "#         continue\n",
    "\n",
    "# results"
   ]
  },
  {
   "cell_type": "code",
   "execution_count": 20,
   "metadata": {},
   "outputs": [],
   "source": [
    "# res = requests.get('https://technews.tw/tag/%E4%BB%8A%E6%97%A5%E9%A0%AD%E6%A2%9D/')\n",
    "# # res.encoding = 'utf8'\n",
    "# soup = bs(res.text,'lxml')"
   ]
  },
  {
   "cell_type": "code",
   "execution_count": 21,
   "metadata": {},
   "outputs": [],
   "source": [
    "# row_titles = soup.select('h1.entry-title > a')\n",
    "# row_titles"
   ]
  },
  {
   "cell_type": "code",
   "execution_count": 22,
   "metadata": {},
   "outputs": [],
   "source": [
    "# title=[]\n",
    "# urls=[]\n",
    "# for i in row_titles:\n",
    "#     title.append(i.text)\n",
    "#     urls.append(i.get('href')) \n",
    "# print(urls)\n",
    "# print(title)"
   ]
  },
  {
   "cell_type": "code",
   "execution_count": 23,
   "metadata": {},
   "outputs": [],
   "source": [
    "# title=[i['title'] for i in row_titles]\n",
    "# print(title)\n",
    "# urls=[i['href'] for i in row_titles]\n",
    "# print(urls)"
   ]
  },
  {
   "cell_type": "code",
   "execution_count": 24,
   "metadata": {},
   "outputs": [],
   "source": [
    "# title = [i.text for i in soup.select('h1 a')]\n",
    "# title"
   ]
  },
  {
   "cell_type": "code",
   "execution_count": 25,
   "metadata": {},
   "outputs": [],
   "source": [
    "# urls = [i.get('href') for i in soup.select('h1 a')]\n",
    "# urls"
   ]
  },
  {
   "cell_type": "code",
   "execution_count": 34,
   "metadata": {},
   "outputs": [],
   "source": [
    "# 爬取ptt 理財版creditcard、NBA版、家庭版BabyMother，並把title、href分別整理成list\n",
    "# titles = ['Re: [情報] (彰銀MY樂卡) 6 Pay享6%，My樂94神',\n",
    "#  '[問題] 今網刷卡回饋？',...三個版的全部titles]\n",
    "# urls = ['/bbs/creditcard/M.1580545773.A.354.html',\n",
    "#  '/bbs/creditcard/M.1580547166.A.60A.html',...三個版的全部urls]\n",
    "# pages = ['creditcard','NBA','BabyMother']\n",
    "# raw_datas=[]\n",
    "# titles = []\n",
    "# hrefs = []\n",
    "# for page in pages:\n",
    "#     res = requests.get('https://www.ptt.cc/bbs/{}/index.html'.format(page))\n",
    "#     soup = bs(res.text,'lxml')\n",
    "#     row_titles = soup.select('div.title > a')\n",
    "# #     print(row_titles)\n",
    "#     for i in row_titles:\n",
    "#         titles.append(i.text)\n",
    "#         hrefs.append(i.get('href')) \n",
    "    \n",
    "# print(titles,'\\n')\n",
    "# print(hrefs)"
   ]
  },
  {
   "cell_type": "code",
   "execution_count": 32,
   "metadata": {},
   "outputs": [],
   "source": [
    "# pages = ['creditcard','NBA','BabyMother']\n",
    "# raw_datas=[]\n",
    "\n",
    "# for page in pages:\n",
    "#     res = requests.get('https://www.ptt.cc/bbs/{}/index.html'.format(page))\n",
    "#     soup = bs(res.text,'lxml')\n",
    "#     raw_datas += soup.find_all('div','title')"
   ]
  },
  {
   "cell_type": "code",
   "execution_count": 33,
   "metadata": {},
   "outputs": [],
   "source": [
    "# titles = []\n",
    "# hrefs = []\n",
    "# for i in raw_datas:\n",
    "#     try:\n",
    "#         hrefs.append(i.find('a').get('href'))\n",
    "#         titles.append(i.text.strip())\n",
    "#     except:\n",
    "#         continue\n",
    "# print(titles,'\\n')\n",
    "# print(hrefs)"
   ]
  },
  {
   "cell_type": "code",
   "execution_count": 165,
   "metadata": {},
   "outputs": [],
   "source": [
    "# res = requests.get('https://www.ptt.cc/bbs/NBA/index.html')"
   ]
  },
  {
   "cell_type": "code",
   "execution_count": 164,
   "metadata": {},
   "outputs": [],
   "source": [
    "# tree = html.fromstring(res.text)"
   ]
  },
  {
   "cell_type": "code",
   "execution_count": 163,
   "metadata": {},
   "outputs": [],
   "source": [
    "# tree"
   ]
  },
  {
   "cell_type": "code",
   "execution_count": 162,
   "metadata": {},
   "outputs": [],
   "source": [
    "# tree.getchildren()"
   ]
  },
  {
   "cell_type": "code",
   "execution_count": 161,
   "metadata": {},
   "outputs": [],
   "source": [
    "# type(tree)"
   ]
  },
  {
   "cell_type": "code",
   "execution_count": 160,
   "metadata": {},
   "outputs": [],
   "source": [
    "# for i in tree:\n",
    "#     print(i)"
   ]
  },
  {
   "cell_type": "code",
   "execution_count": 156,
   "metadata": {},
   "outputs": [],
   "source": [
    "# tree.xpath('//*[@id=\"main-container\"]/div[2]/div/div/a')[0].text"
   ]
  },
  {
   "cell_type": "code",
   "execution_count": 157,
   "metadata": {},
   "outputs": [],
   "source": [
    "# tree.cssselect('div.title > a')[0].text"
   ]
  },
  {
   "cell_type": "code",
   "execution_count": 158,
   "metadata": {
    "scrolled": true
   },
   "outputs": [],
   "source": [
    "# res = requests.get('https://www.books.com.tw/')\n",
    "# tree = html.fromstring(res.text)\n",
    "# tree"
   ]
  },
  {
   "cell_type": "code",
   "execution_count": 159,
   "metadata": {},
   "outputs": [],
   "source": [
    "# tree_data1 = tree.cssselect('#M201101_19798__P000800010032 > div > ul > li > p')\n",
    "# tree_data2 = tree.xpath('//*[@id=\"M201101_19798__P000800010032\"]/div/ul/li/p')"
   ]
  },
  {
   "cell_type": "code",
   "execution_count": 153,
   "metadata": {},
   "outputs": [],
   "source": [
    "# for tr in tree_data1:\n",
    "#     print(tr.text)\n",
    "# print('--------------------cssselect--------------------')\n",
    "# for tr in tree_data2:\n",
    "#     print(tr.text)\n",
    "# print('----------------------xpath----------------------')"
   ]
  },
  {
   "cell_type": "code",
   "execution_count": 154,
   "metadata": {},
   "outputs": [],
   "source": [
    "# res = requests.get(\"https://www.flag.com.tw/books/school\")\n",
    "# tree = html.fromstring(res.text)\n",
    "# tree"
   ]
  },
  {
   "cell_type": "code",
   "execution_count": 155,
   "metadata": {},
   "outputs": [],
   "source": [
    "# tree_data = tree.xpath('/html/body/section/table/tr/td/a/p')"
   ]
  },
  {
   "cell_type": "code",
   "execution_count": 152,
   "metadata": {},
   "outputs": [],
   "source": [
    "# for tr in tree_data:\n",
    "#     print(tr.text)"
   ]
  },
  {
   "cell_type": "code",
   "execution_count": null,
   "metadata": {},
   "outputs": [],
   "source": [
    "####tku student\n",
    "# yahoo股價https://tw.stock.yahoo.com/q/q?s=\n",
    "# 取得2888的時間 成交 買進 賣出 漲跌 張數 昨收 開盤 最高 最低\n",
    "# 並整理成\n",
    "# {'id': '2888',\n",
    "#  'time': '14:30',\n",
    "#  'price': '9.85',\n",
    "#  'buy': '9.84',\n",
    "#  'sell': '9.85',\n",
    "#  'upordown': '△0.09',\n",
    "#  'num': '53,796',\n",
    "#  'lastday': '9.76',\n",
    "#  'open': '9.76',\n",
    "#  'high': '9.95',\n",
    "#  'low': '9.76'}"
   ]
  },
  {
   "cell_type": "code",
   "execution_count": 234,
   "metadata": {},
   "outputs": [],
   "source": [
    "# res = requests.post(\"https://tw.stock.yahoo.com/q/q?s=2888\")\n",
    "# var = ['id','time','price','buy','sell','upordown','num','lastday','open','high','low']\n",
    "# soup = bs(res.text,'lxml')"
   ]
  },
  {
   "cell_type": "code",
   "execution_count": 236,
   "metadata": {},
   "outputs": [],
   "source": [
    "# row_titles = soup.select('td > table > tr > td ')\n",
    "# information=['2888']\n",
    "# for i in row_titles:\n",
    "#     try:\n",
    "#         if i['nowrap'] == \"\": #判斷是否為要的資料\n",
    "#             information.append(i.text.strip())\n",
    "#     except:\n",
    "#         continue\n",
    "# data={}\n",
    "# for j in range(len(var)):\n",
    "#     data[var[j]] = information[j]\n",
    "# data"
   ]
  }
 ],
 "metadata": {
  "kernelspec": {
   "display_name": "Python 3",
   "language": "python",
   "name": "python3"
  },
  "language_info": {
   "codemirror_mode": {
    "name": "ipython",
    "version": 3
   },
   "file_extension": ".py",
   "mimetype": "text/x-python",
   "name": "python",
   "nbconvert_exporter": "python",
   "pygments_lexer": "ipython3",
   "version": "3.7.6"
  }
 },
 "nbformat": 4,
 "nbformat_minor": 4
}
