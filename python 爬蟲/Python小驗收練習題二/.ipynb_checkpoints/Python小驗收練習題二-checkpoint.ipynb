{
 "cells": [
  {
   "cell_type": "code",
   "execution_count": 1,
   "metadata": {},
   "outputs": [],
   "source": [
    "# from newsapi import NewsApiClient\n",
    "# import json\n",
    "# from bs4 import BeautifulSoup as bs\n",
    "# from lxml import html\n",
    "# from lxml import cssselect"
   ]
  },
  {
   "cell_type": "code",
   "execution_count": 2,
   "metadata": {},
   "outputs": [],
   "source": [
    "# newsapi = NewsApiClient(api_key='f3c5db312bef465fb04c7a3cdf9304ae')"
   ]
  },
  {
   "cell_type": "code",
   "execution_count": 3,
   "metadata": {},
   "outputs": [],
   "source": [
    "# all_articles = newsapi.get_everything(q='武漢肺炎 NOT 外遇',\n",
    "#                                       domains='ettoday.net,storm.mg,chinatimes.com,udn.com',\n",
    "#                                       from_param='2020-05-05',\n",
    "#                                       to='2020-06-05',\n",
    "#                                       language='zh',\n",
    "#                                       sort_by='publishedAt',\n",
    "#                                       page_size=100)"
   ]
  },
  {
   "cell_type": "code",
   "execution_count": 4,
   "metadata": {},
   "outputs": [],
   "source": [
    "# file_name = 'Exam2.json'\n",
    "# for i in all_articles['articles']:\n",
    "#     print(i,'\\n')\n",
    "#     with open(file_name,'a' ,encoding = 'utf8' ) as file_object:\n",
    "#         json.dump(i,file_object,ensure_ascii=False)\n",
    "#         file_object.write(',')"
   ]
  }
 ],
 "metadata": {
  "kernelspec": {
   "display_name": "Python 3",
   "language": "python",
   "name": "python3"
  },
  "language_info": {
   "codemirror_mode": {
    "name": "ipython",
    "version": 3
   },
   "file_extension": ".py",
   "mimetype": "text/x-python",
   "name": "python",
   "nbconvert_exporter": "python",
   "pygments_lexer": "ipython3",
   "version": "3.7.6"
  }
 },
 "nbformat": 4,
 "nbformat_minor": 4
}
