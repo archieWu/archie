{
 "cells": [
  {
   "cell_type": "code",
   "execution_count": 1,
   "metadata": {},
   "outputs": [],
   "source": [
    "# import requests\n",
    "\n",
    "# # http://www.omdbapi.com\n",
    "# # 470ddfd7"
   ]
  },
  {
   "cell_type": "code",
   "execution_count": 2,
   "metadata": {},
   "outputs": [],
   "source": [
    "# # 470ddfd7\n",
    "# # &r=xml\n",
    "# res = requests.get('http://www.omdbapi.com/?apikey=470ddfd7&t=ironman')"
   ]
  },
  {
   "cell_type": "code",
   "execution_count": 3,
   "metadata": {},
   "outputs": [],
   "source": [
    "# res"
   ]
  },
  {
   "cell_type": "code",
   "execution_count": 4,
   "metadata": {},
   "outputs": [],
   "source": [
    "# res.text"
   ]
  },
  {
   "cell_type": "code",
   "execution_count": 5,
   "metadata": {},
   "outputs": [],
   "source": [
    "# type(res.text)"
   ]
  },
  {
   "cell_type": "code",
   "execution_count": 6,
   "metadata": {},
   "outputs": [],
   "source": [
    "# res.status_code"
   ]
  },
  {
   "cell_type": "code",
   "execution_count": 7,
   "metadata": {
    "scrolled": true
   },
   "outputs": [],
   "source": [
    "# res.headers"
   ]
  },
  {
   "cell_type": "code",
   "execution_count": 8,
   "metadata": {},
   "outputs": [],
   "source": [
    "# res.encoding\n",
    "# # res.encoding = 'utf8'"
   ]
  },
  {
   "cell_type": "code",
   "execution_count": 9,
   "metadata": {},
   "outputs": [],
   "source": [
    "# res.content "
   ]
  },
  {
   "cell_type": "code",
   "execution_count": 10,
   "metadata": {},
   "outputs": [],
   "source": [
    "# resp.text返回的是Unicode型的數據。\n",
    "# resp.content返回的是bytes型也就是二進制的數據\n",
    "# 也就是說，如果想要取文本，可以通過r.text。\n",
    "# 如果想取圖片，文件，則可以通過r.content。"
   ]
  },
  {
   "cell_type": "code",
   "execution_count": 10,
   "metadata": {},
   "outputs": [],
   "source": [
    "# ('a','v')"
   ]
  },
  {
   "cell_type": "code",
   "execution_count": 11,
   "metadata": {},
   "outputs": [],
   "source": [
    "# res.json()"
   ]
  },
  {
   "cell_type": "code",
   "execution_count": 12,
   "metadata": {},
   "outputs": [],
   "source": [
    "# res1 = requests.get('http://www.omdbapi.com/?apikey=470ddfd7&t=The Devil Wears Prada')"
   ]
  },
  {
   "cell_type": "code",
   "execution_count": 13,
   "metadata": {},
   "outputs": [],
   "source": [
    "# movie_names=[\"The Devil Wears Prada\",\"Iron Man\"]\n",
    "# movies=[]"
   ]
  },
  {
   "cell_type": "code",
   "execution_count": 14,
   "metadata": {},
   "outputs": [],
   "source": [
    "# for i in [\"The Devil Wears Prada\",\"Iron Man\"]:\n",
    "#     print(i)"
   ]
  },
  {
   "cell_type": "code",
   "execution_count": 15,
   "metadata": {},
   "outputs": [],
   "source": [
    "# for name in movie_names:\n",
    "#     res=requests.get(\"http://www.omdbapi.com/?apikey=470ddfd7&t={}\".format(name))\n",
    "#     movies.append(res.json())"
   ]
  },
  {
   "cell_type": "code",
   "execution_count": 16,
   "metadata": {},
   "outputs": [],
   "source": [
    "# for i,name in enumerate(movie_names):\n",
    "#     print(i)\n",
    "#     print(name)"
   ]
  },
  {
   "cell_type": "code",
   "execution_count": 17,
   "metadata": {},
   "outputs": [],
   "source": [
    "# titles=[]\n",
    "# years=[]\n",
    "# directors=[]"
   ]
  },
  {
   "cell_type": "code",
   "execution_count": 18,
   "metadata": {},
   "outputs": [],
   "source": [
    "# movies"
   ]
  },
  {
   "cell_type": "code",
   "execution_count": 19,
   "metadata": {},
   "outputs": [],
   "source": [
    "# for data in movies:\n",
    "#     titles.append(data['Title'])\n",
    "#     years.append(data['Year'])\n",
    "#     directors.append(data['Director'])\n",
    "# #============================================#上下結果一樣 \n",
    "# # for data in range(len(movies)):\n",
    "# #     titles.append(movies[data]['Title'])\n",
    "# #     years.append(movies[data]['Year'])\n",
    "# #     directors.append(movies[data]['Director'])"
   ]
  },
  {
   "cell_type": "code",
   "execution_count": 20,
   "metadata": {
    "scrolled": true
   },
   "outputs": [],
   "source": [
    "# print(titles)\n",
    "# print(years)\n",
    "# print(directors)\n"
   ]
  },
  {
   "cell_type": "code",
   "execution_count": 21,
   "metadata": {},
   "outputs": [],
   "source": [
    "# movies2 = []\n",
    "# for i,t in enumerate(titles):\n",
    "#     k = {}\n",
    "#     k['Title'] = t\n",
    "#     k['Year'] = years[i]\n",
    "#     k['Director'] = directors[i]\n",
    "#     movies2.append(k)\n",
    "# print(movies2)"
   ]
  },
  {
   "cell_type": "code",
   "execution_count": 22,
   "metadata": {},
   "outputs": [],
   "source": [
    "# movies2 = []\n",
    "# for i in enumerate(titles):\n",
    "#     k = {}\n",
    "#     k['Title'] = i[1]\n",
    "#     k['Year'] = years[i[0]]\n",
    "#     k['Director'] = directors[i[0]]\n",
    "#     movies2.append(k)\n",
    "# print(movies2)"
   ]
  },
  {
   "cell_type": "code",
   "execution_count": 23,
   "metadata": {},
   "outputs": [],
   "source": [
    "# import json"
   ]
  },
  {
   "cell_type": "code",
   "execution_count": 24,
   "metadata": {},
   "outputs": [],
   "source": [
    "# file_name = 'movie.json'\n",
    "# with open(file_name,'a') as file_object:\n",
    "#     for i in movies2:\n",
    "#         json.dump(i,file_object)"
   ]
  },
  {
   "cell_type": "code",
   "execution_count": 25,
   "metadata": {},
   "outputs": [],
   "source": [
    "# res = requests.get('http://api.openweathermap.org/data/2.5/weather?q=Taipei&appid=3cdf40f562929f2d0546abff18321d4d')\n",
    "# res.json()"
   ]
  },
  {
   "cell_type": "code",
   "execution_count": 26,
   "metadata": {},
   "outputs": [],
   "source": [
    "# city_names=[\"Taipei\",\"Taoyuan\"]\n",
    "# city_weather=[]"
   ]
  },
  {
   "cell_type": "code",
   "execution_count": 27,
   "metadata": {},
   "outputs": [],
   "source": [
    "# for city in city_names:\n",
    "#     res = requests.get('http://api.openweathermap.org/data/2.5/weather?q={}&appid=3cdf40f562929f2d0546abff18321d4d'.format(city))\n",
    "#     city_weather.append(res.json())"
   ]
  },
  {
   "cell_type": "code",
   "execution_count": 28,
   "metadata": {
    "scrolled": true
   },
   "outputs": [],
   "source": [
    "# print(city_weather)\n",
    "# weathers=[]\n",
    "# countrys=[]\n",
    "# citys=[]"
   ]
  },
  {
   "cell_type": "code",
   "execution_count": 29,
   "metadata": {},
   "outputs": [],
   "source": [
    "# for data in city_weather:\n",
    "#     weathers.append(data['weather'][0]['main'])\n",
    "#     countrys.append(data['sys']['country'])\n",
    "#     citys.append(data['name'])\n",
    "# print(weathers)\n",
    "# print(countrys)\n",
    "# print(citys)\n"
   ]
  },
  {
   "cell_type": "code",
   "execution_count": 30,
   "metadata": {},
   "outputs": [],
   "source": [
    "# weather_data = []\n",
    "# for i in enumerate(weathers):\n",
    "#     k = {}\n",
    "#     k['weather'] = i[1]\n",
    "#     k['country'] = countrys[i[0]]\n",
    "#     k['city'] = citys[i[0]]\n",
    "#     weather_data.append(k)\n",
    "# print(weather_data)"
   ]
  },
  {
   "cell_type": "code",
   "execution_count": 31,
   "metadata": {},
   "outputs": [],
   "source": [
    "# city = [\"Taipei\",\"Taoyuan\"]\n",
    "# weather_data = []\n",
    "# for c in city:\n",
    "#     res = requests.get('http://api.openweathermap.org/data/2.5/weather?q={}&appid=3cdf40f562929f2d0546abff18321d4d'.format(c))\n",
    "#     data = res.json()\n",
    "#     d = {}\n",
    "#     d['weather'] = data['weather'][0]['main']\n",
    "#     d['country'] = data['sys']['country']\n",
    "#     d['city'] = c\n",
    "#     weather_data.append(d)\n",
    "# print(weather_data)\n",
    "# file_name = 'weather.json'\n",
    "# with open(file_name,'w') as file_object:\n",
    "#     for i in weather_data:\n",
    "#         json.dump(i,file_object)"
   ]
  },
  {
   "cell_type": "code",
   "execution_count": 32,
   "metadata": {},
   "outputs": [],
   "source": [
    "# res = requests.get('https://www.peoplenews.tw/resource/lists/NEWS?filterselect=true&_=1590219885394')\n",
    "# news = res.json()\n",
    "# print(news)"
   ]
  },
  {
   "cell_type": "code",
   "execution_count": 33,
   "metadata": {},
   "outputs": [],
   "source": [
    "# data=res.json()['data_list']"
   ]
  },
  {
   "cell_type": "code",
   "execution_count": 34,
   "metadata": {},
   "outputs": [],
   "source": [
    "# eids = [i['EID'] for i in data]\n"
   ]
  },
  {
   "cell_type": "code",
   "execution_count": 35,
   "metadata": {},
   "outputs": [],
   "source": [
    "# eids"
   ]
  },
  {
   "cell_type": "code",
   "execution_count": 36,
   "metadata": {},
   "outputs": [],
   "source": [
    "# res = requests.get('https://www.cwb.gov.tw/Data/js/TableData_36hr_County_C.js')\n",
    "# res.encoding = 'utf8'\n",
    "# raw_data = res.text"
   ]
  },
  {
   "cell_type": "code",
   "execution_count": 37,
   "metadata": {},
   "outputs": [],
   "source": [
    "# raw_data"
   ]
  },
  {
   "cell_type": "code",
   "execution_count": 38,
   "metadata": {},
   "outputs": [],
   "source": [
    "# a = 'string'\n",
    "# a[0:3]"
   ]
  },
  {
   "cell_type": "code",
   "execution_count": 39,
   "metadata": {},
   "outputs": [],
   "source": [
    "# raw_data.find('{')"
   ]
  },
  {
   "cell_type": "code",
   "execution_count": 40,
   "metadata": {},
   "outputs": [],
   "source": [
    "# data = eval(raw_data[58:-1])"
   ]
  },
  {
   "cell_type": "code",
   "execution_count": 41,
   "metadata": {},
   "outputs": [],
   "source": [
    "# raw_data[58:-1]"
   ]
  },
  {
   "cell_type": "code",
   "execution_count": 42,
   "metadata": {},
   "outputs": [],
   "source": [
    "# data"
   ]
  },
  {
   "cell_type": "code",
   "execution_count": 43,
   "metadata": {},
   "outputs": [],
   "source": [
    "# import requests\n",
    "\n",
    "# from bs4 import BeautifulSoup as bs"
   ]
  },
  {
   "cell_type": "code",
   "execution_count": 44,
   "metadata": {},
   "outputs": [],
   "source": [
    "# res = requests.get('https://www.ptt.cc/bbs/NBA/index.html')"
   ]
  },
  {
   "cell_type": "code",
   "execution_count": 45,
   "metadata": {},
   "outputs": [],
   "source": [
    "# soup = bs(res.text,'lxml')"
   ]
  },
  {
   "cell_type": "code",
   "execution_count": 46,
   "metadata": {},
   "outputs": [],
   "source": [
    "# soup"
   ]
  },
  {
   "cell_type": "code",
   "execution_count": 47,
   "metadata": {},
   "outputs": [],
   "source": [
    "# soup.title"
   ]
  },
  {
   "cell_type": "code",
   "execution_count": 48,
   "metadata": {},
   "outputs": [],
   "source": [
    "# soup.title.name"
   ]
  },
  {
   "cell_type": "code",
   "execution_count": 49,
   "metadata": {},
   "outputs": [],
   "source": [
    "# soup.title.string"
   ]
  },
  {
   "cell_type": "code",
   "execution_count": 50,
   "metadata": {},
   "outputs": [],
   "source": [
    "# soup.title.parent.name"
   ]
  },
  {
   "cell_type": "code",
   "execution_count": 51,
   "metadata": {},
   "outputs": [],
   "source": [
    "# soup.find(\"div\",\"title\")"
   ]
  },
  {
   "cell_type": "code",
   "execution_count": 52,
   "metadata": {},
   "outputs": [],
   "source": [
    "# soup.find(\"div\",class_=\"title\")"
   ]
  },
  {
   "cell_type": "code",
   "execution_count": 53,
   "metadata": {},
   "outputs": [],
   "source": [
    "# raw_titles = soup.find_all(\"div\",\"title\")"
   ]
  },
  {
   "cell_type": "code",
   "execution_count": 54,
   "metadata": {},
   "outputs": [],
   "source": [
    "# raw_titles"
   ]
  },
  {
   "cell_type": "code",
   "execution_count": 55,
   "metadata": {},
   "outputs": [],
   "source": [
    "# fruits=['apple','orange','banana']\n",
    "# prices=[30,25,12]\n",
    "# clean_data=[]\n",
    "# for k,p in enumerate(prices):\n",
    "#     data={}\n",
    "#     data['fruit']=fruits[k]\n",
    "#     data['price']=p\n",
    "#     clean_data.append(data)\n",
    "# print(clean_data)"
   ]
  },
  {
   "cell_type": "code",
   "execution_count": 56,
   "metadata": {},
   "outputs": [],
   "source": [
    "# fruit_2=[]\n",
    "# price_2=[]\n",
    "# for c in clean_data:\n",
    "#     fruit_2.append(c['fruit'])\n",
    "#     price_2.append(c['price'])\n",
    "# print(fruit_2)\n",
    "# print(price_2)"
   ]
  },
  {
   "cell_type": "code",
   "execution_count": 57,
   "metadata": {
    "scrolled": true
   },
   "outputs": [],
   "source": [
    "# import json\n",
    "# with open('fruits.json','a',encoding='utf8') as file:\n",
    "#     for c in clean_data:\n",
    "#         file.write(json.dumps(c))\n",
    "#         file.write('\\n')"
   ]
  }
 ],
 "metadata": {
  "kernelspec": {
   "display_name": "Python 3",
   "language": "python",
   "name": "python3"
  },
  "language_info": {
   "codemirror_mode": {
    "name": "ipython",
    "version": 3
   },
   "file_extension": ".py",
   "mimetype": "text/x-python",
   "name": "python",
   "nbconvert_exporter": "python",
   "pygments_lexer": "ipython3",
   "version": "3.7.6"
  }
 },
 "nbformat": 4,
 "nbformat_minor": 4
}
