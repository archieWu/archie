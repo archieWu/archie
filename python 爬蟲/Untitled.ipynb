{
 "cells": [
  {
   "cell_type": "code",
   "execution_count": 8,
   "metadata": {},
   "outputs": [
    {
     "name": "stdout",
     "output_type": "stream",
     "text": [
      "新增成功\n"
     ]
    }
   ],
   "source": [
    "import mysql.connector\n",
    "try:\n",
    "    # Open database connection\n",
    "    conn = mysql.connector.connect(host=\"10.147.18.85\", \tuser=\"julian\", passwd=\"admin123\", db=\"test1\", charset=\"utf8\")\n",
    "    cursor = conn.cursor()  # prepare a cursor object \n",
    "    sql = \"insert into Student values (%s, %s, %s, %s)\"\n",
    "    data = (29, '張三','2008-12-09',81.5)\n",
    "    cursor.execute(sql, data)  # Execute the SQL command\n",
    "    conn.commit()\n",
    "    print(\"新增成功\")\n",
    "except mysql.connector.Error as e:\n",
    "    print(str(e))\n",
    "    print(\"新增失敗\")\n",
    "except Exception as e:\n",
    "    print(str(e))\n",
    "    conn.rollback()\n",
    "finally:\n",
    "    if conn is not None:\n",
    "        conn.close()"
   ]
  }
 ],
 "metadata": {
  "kernelspec": {
   "display_name": "Python 3",
   "language": "python",
   "name": "python3"
  },
  "language_info": {
   "codemirror_mode": {
    "name": "ipython",
    "version": 3
   },
   "file_extension": ".py",
   "mimetype": "text/x-python",
   "name": "python",
   "nbconvert_exporter": "python",
   "pygments_lexer": "ipython3",
   "version": "3.7.6"
  }
 },
 "nbformat": 4,
 "nbformat_minor": 4
}
