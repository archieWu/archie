{
 "cells": [
  {
   "cell_type": "code",
   "execution_count": 4,
   "metadata": {},
   "outputs": [],
   "source": [
    "from selenium import webdriver\n",
    "import time"
   ]
  },
  {
   "cell_type": "code",
   "execution_count": 5,
   "metadata": {},
   "outputs": [],
   "source": [
    "# driver = webdriver.Chrome(\"/Users/dawn/Downloads/chromedriver\")\n",
    "# C:\\Users\\sophi\\Downloads\\chromedriver_win32 (3)\n",
    "chrome_driver_path = \"C:/Users/sophi/Downloads/chromedriver_win32 (3)/chromedriver\"\n",
    "driver = webdriver.Chrome(chrome_driver_path)\n",
    "# time.sleep(5)\n",
    "driver.quit()"
   ]
  },
  {
   "cell_type": "code",
   "execution_count": 7,
   "metadata": {
    "scrolled": true
   },
   "outputs": [
    {
     "name": "stdout",
     "output_type": "stream",
     "text": [
      "example.com\n"
     ]
    }
   ],
   "source": [
    "driver = webdriver.Chrome(chrome_driver_path)\n",
    "driver.implicitly_wait(10)\n",
    "driver.get(\"http://example.com/\")\n",
    "print(driver.title)\n",
    "html = driver.page_source\n",
    "time.sleep(10)\n",
    "# print(\"html ===========================\")\n",
    "# print(html)\n",
    "driver.quit()"
   ]
  },
  {
   "cell_type": "code",
   "execution_count": 9,
   "metadata": {},
   "outputs": [],
   "source": [
    "# html"
   ]
  },
  {
   "cell_type": "code",
   "execution_count": 10,
   "metadata": {},
   "outputs": [],
   "source": [
    "from bs4 import BeautifulSoup as bs\n",
    "soup = bs(html,\"lxml\")"
   ]
  },
  {
   "cell_type": "code",
   "execution_count": 12,
   "metadata": {
    "scrolled": true
   },
   "outputs": [],
   "source": [
    "# soup.style"
   ]
  },
  {
   "cell_type": "code",
   "execution_count": null,
   "metadata": {},
   "outputs": [],
   "source": [
    "# 請抓出hiskio 的課程資訊https://hiskio.com/\n",
    "# 並整理成\n",
    "# [{'subject': 'MultiCharts 程式交易｜技術分析 x 策略積木 萬用投資術（預購中）',\n",
    "#   'href': '/courses/351',\n",
    "#   'teacher': '東尼 Tony'},\n",
    "#  {'subject': '深入淺出Entity Framework Core 3',\n",
    "#   'href': '/courses/365',\n",
    "#   'teacher': 'Rico.Chen'},\n",
    "#  {'subject': 'Dialogflow 進階開發 | 串接後端與第三方應用 (預購中)',\n",
    "#   'href': '/courses/346',\n",
    "#   'teacher': 'Wolke Lin'},\n",
    "#  {'subject': 'Dialogflow 零基礎入門 | 打造智慧語音機器人 (預購中)',\n",
    "#   'href': '/courses/344',\n",
    "#   'teacher': 'Wolke Lin'},\n",
    "#  {'subject': 'Kubernetes 實作手冊： CI/CD 環境整合篇 (預購中)',\n",
    "#   'href': '/courses/385',\n",
    "#   'teacher': 'Hung-Wei Chiu'},\n",
    "#  {'subject': 'API 整合實戰｜RESTful 第三方串接應用（預購中）',\n",
    "#   'href': '/courses/291',\n",
    "#   'teacher': 'John Liu'},\n",
    "#  {'subject': 'API 整合實戰｜多種金流串接應用（預購中）',\n",
    "#   'href': '/courses/377',\n",
    "#   'teacher': 'John Liu'}....."
   ]
  },
  {
   "cell_type": "code",
   "execution_count": 53,
   "metadata": {},
   "outputs": [],
   "source": [
    "# https://hiskio.com/\n",
    "driver = webdriver.Chrome(chrome_driver_path)\n",
    "driver.implicitly_wait(10)\n",
    "driver.get(\"https://hiskio.com/\")\n",
    "# print(driver.title)\n",
    "html = driver.page_source\n",
    "# time.sleep(5)\n",
    "# print(\"html ===========================\")\n",
    "# print(html)\n",
    "driver.quit()"
   ]
  },
  {
   "cell_type": "code",
   "execution_count": 57,
   "metadata": {},
   "outputs": [],
   "source": [
    "soup = bs(html,\"lxml\")"
   ]
  },
  {
   "cell_type": "code",
   "execution_count": 58,
   "metadata": {},
   "outputs": [],
   "source": [
    "# div[@class='course-body']/a[@class='link-wrapper']\n",
    "course_data = soup.select(\".course-body\")\n",
    "course_list = []\n",
    "for co in course_data:\n",
    "    c = {}\n",
    "    c['subject'] = co.h4.text\n",
    "    c['href'] = co.a['href']\n",
    "    c['teacher'] = co.div.text\n",
    "    \n",
    "    \n",
    "    \n",
    "    course_list.append(c)"
   ]
  },
  {
   "cell_type": "code",
   "execution_count": 61,
   "metadata": {
    "scrolled": true
   },
   "outputs": [
    {
     "data": {
      "text/plain": [
       "[]"
      ]
     },
     "execution_count": 61,
     "metadata": {},
     "output_type": "execute_result"
    }
   ],
   "source": [
    "course_list"
   ]
  },
  {
   "cell_type": "code",
   "execution_count": 25,
   "metadata": {},
   "outputs": [
    {
     "data": {
      "text/plain": [
       "'MultiCharts 程式交易｜技術分析 x 策略積木 萬用投資術（預購中）'"
      ]
     },
     "execution_count": 25,
     "metadata": {},
     "output_type": "execute_result"
    }
   ],
   "source": [
    "course_data[0].h4.text"
   ]
  },
  {
   "cell_type": "code",
   "execution_count": 27,
   "metadata": {},
   "outputs": [
    {
     "data": {
      "text/plain": [
       "'/courses/351'"
      ]
     },
     "execution_count": 27,
     "metadata": {},
     "output_type": "execute_result"
    }
   ],
   "source": [
    "course_data[0].a['href']"
   ]
  },
  {
   "cell_type": "code",
   "execution_count": 29,
   "metadata": {},
   "outputs": [
    {
     "data": {
      "text/plain": [
       "'東尼 Tony'"
      ]
     },
     "execution_count": 29,
     "metadata": {},
     "output_type": "execute_result"
    }
   ],
   "source": [
    "course_data[0].div.text"
   ]
  },
  {
   "cell_type": "code",
   "execution_count": 13,
   "metadata": {
    "scrolled": true
   },
   "outputs": [
    {
     "name": "stdout",
     "output_type": "stream",
     "text": [
      "精衛填海- 教育百科\n",
      "https://pedia.cloud.edu.tw/Entry/Detail/?title=%E7%B2%BE%E8%A1%9B%E5%A1%AB%E6%B5%B7\n",
      "精衛填海\n",
      "http://163.19.66.6/idiom/5-58.htm\n",
      "精衛填海 - 基隆市武崙國小成語詞典\n",
      "https://idiom.wlps.kl.edu.tw/5598\n",
      "精衛填海——中國最有名，也最感人的遠古神話故事- 每日頭條\n",
      "https://kknews.cc/zh-tw/history/86b9x8q.html\n",
      "精衛填海- 故事寶庫\n",
      "http://storybank.weebly.com/2592520107-blog/328\n",
      "精衛填海成語解釋 - 漢語網\n",
      "http://www.chinesewords.org/idiom/show-7085.html\n",
      "精衛- 維基百科，自由的百科全書 - Wikipedia\n",
      "https://zh.wikipedia.org/zh-tw/%E7%B2%BE%E5%8D%AB\n",
      "精衛填海_原文、翻譯及賞析_佚名詩詞_讀古詩詞網\n",
      "https://fanti.dugushici.com/ancient_proses/71868\n",
      "精衛填海 - 教育部重編國語辭典修訂本\n",
      "http://dict.revised.moe.edu.tw/cgi-bin/cbdic/gsweb.cgi?o=dcbdic&searchid=Z00000095710\n",
      "精卫填海（中国古代神话传说）_百度百科\n",
      "https://baike.baidu.com/item/%E7%B2%BE%E5%8D%AB%E5%A1%AB%E6%B5%B7\n"
     ]
    }
   ],
   "source": [
    "from selenium import webdriver\n",
    "from selenium.webdriver.common.keys import Keys\n",
    "import time\n",
    "# /Users/dawn/Downloads/chromedriver\n",
    "driver = webdriver.Chrome(chrome_driver_path)\n",
    "driver.implicitly_wait(10)\n",
    "# url = \"https://www.python.org/downloads/\"\n",
    "url = \"https://www.google.com/\"\n",
    "driver.get(url)\n",
    "# python:\n",
    "# keyword = driver.find_element_by_css_selector(\"#id-search-field\")\n",
    "# print(keyword)\n",
    "# print(type(keyword))\n",
    "# google: \n",
    "#tsf > div:nth-child(2) > div.A8SBwf > div.RNNXgb > div > div.a4bIc > input\n",
    "keyword = driver.find_element_by_css_selector(\"#tsf > div:nth-child(2) > div.A8SBwf > div.RNNXgb > div > div.a4bIc > input\")\n",
    "\n",
    "#fakebox-input\n",
    "keyword.send_keys(\"精衛填海\")\n",
    "keyword.send_keys(Keys.ENTER)\n",
    "# time.sleep(5)\n",
    "\n",
    "#google\n",
    "items = driver.find_elements_by_xpath(\"//div[@class='r']\")\n",
    "# print('item======================')\n",
    "# print(items)\n",
    "# print(type(items))\n",
    "for item in items:\n",
    "    h3 = item.find_element_by_tag_name(\"h3\")\n",
    "    print(h3.text)\n",
    "    a = item.find_element_by_tag_name(\"a\")   \n",
    "    print(a.get_attribute(\"href\"))\n",
    "    \n",
    "driver.quit()"
   ]
  },
  {
   "cell_type": "code",
   "execution_count": null,
   "metadata": {},
   "outputs": [],
   "source": [
    "# 進入python首頁輸入list 並印出下面的文章 https://www.python.org/\n",
    "# 如下\n",
    "# Python Special Interest Groups - Guidelines\n",
    "# ...list. This will be the person who manages specifics of the mailing list, such as subscribe/unsubscribe approvals (if necessary), approving held posts, etc. There is always a real person on the other end of this address, so if you need to contact a human being, this is the address to use. Mailing List Policy Each mailing list has a policy for such things as who can join the list, or post messages, etc. In general all SIG lists have the following (fairly lax) policy. SIG owners are given th...\n",
    "# PEP 585 -- Type Hinting Generics In Standard Collections\n",
    "# ...list[str]() [] >>> list is list[str] False >>> list == list[str] False >>> list[str] == list[str] True >>> list[str] == list[int] False >>> isinstance([1, 2, 3], list[str]) TypeError: isinstance() arg 2 cannot be a parameterized generic >>> issubclass(list, list[str]) TypeError: issubclass() arg 2 cannot be a parameterized generic >>> isinstance(list[str], types.GenericAlias) True Objects created with bare types and parameterized ty...\n",
    "# Mailing Lists\n",
    "# ...Lists Python Mailing Lists and Newsgroups Here's an overview of the mail and news resources for python. For a complete listing of python.o"
   ]
  },
  {
   "cell_type": "code",
   "execution_count": 24,
   "metadata": {},
   "outputs": [],
   "source": [
    "with open('C:/Users/sophi/Learning Resource/Scarpy/after_mobile01_42568_forsean.txt', 'r', encoding='utf8') as f1:\n",
    "    content = f1.read()"
   ]
  },
  {
   "cell_type": "code",
   "execution_count": 26,
   "metadata": {},
   "outputs": [],
   "source": [
    "data = eval(content)"
   ]
  },
  {
   "cell_type": "code",
   "execution_count": 46,
   "metadata": {},
   "outputs": [],
   "source": [
    "# len(data)\n",
    "four_words = []\n",
    "for da in data:\n",
    "    da = extract_chinese(da)\n",
    "    if len(da) <= 4:\n",
    "        four_words.append(da)"
   ]
  },
  {
   "cell_type": "code",
   "execution_count": 40,
   "metadata": {
    "scrolled": true
   },
   "outputs": [
    {
     "name": "stdout",
     "output_type": "stream",
     "text": [
      "Python\n",
      "=====================\n",
      "Python Special Interest Groups - Guidelines\n",
      "...list. This will be the person who manages specifics of the mailing list, such as subscribe/unsubscribe approvals (if necessary), approving held posts, etc. There is always a real person on the other end of this address, so if you need to contact a human being, this is the address to use. Mailing List Policy Each mailing list has a policy for such things as who can join the list, or post messages, etc. In general all SIG lists have the following (fairly lax) policy. SIG owners are given th...\n",
      "PEP 585 -- Type Hinting Generics In Standard Collections\n",
      "...list[str]() [] >>> list is list[str] False >>> list == list[str] False >>> list[str] == list[str] True >>> list[str] == list[int] False >>> isinstance([1, 2, 3], list[str]) TypeError: isinstance() arg 2 cannot be a parameterized generic >>> issubclass(list, list[str]) TypeError: issubclass() arg 2 cannot be a parameterized generic >>> isinstance(list[str], types.GenericAlias) True Objects created with bare types and parameterized ty...\n",
      "Mailing Lists\n",
      "...Lists Python Mailing Lists and Newsgroups Here's an overview of the mail and news resources for python. For a complete listing of python.org's public mailing lists, check both lists hosted on Mailman 2 and lists hosted on Mailman 3. To request a new list, send e-mail to postmaster @ python.org; please check first to make sure a similar list does not already exist. Mailing lists for users speaking languages other than English are listed in the non-english python resources guide, which incl...\n",
      "Python Patterns - An Optimization Anecdote\n",
      "...list [97, 98, 99] should be converted to the string 'abc'. Let's assume we want to write a function to do this. The first version I came up with was totally straightforward: def f1(list): string = \"\" for item in list: string = string + chr(item) return string That can't be the fastest way to do it, said my friend. How about this one: def f2(list): return reduce(lambda string, item: string + chr(item), list, \"\") ...\n",
      "Python Core Mentorship\n",
      "...list (signup there) The list archives (The current archive is only available to the list members.) The Python Developer's Guide should be your first stop - we will be adding to it based on feedback from the mentorship list The Python bug tracker you're going to want to bookmark it. The python-dev mailing list The python-ideas mailing list Code of Conduct The following code of conduct is not meant as a means for punishment, action or censorship for the mailing list or project. Instead, it is m...\n",
      "PEP 3128 -- BList: A Faster List-like Type\n",
      "...lists, there are two common uses cases where the existing array-based list outperforms the existing BList reference implementation. These are: A large LIFO stack, where there are many .append() and .pop(-1) operations. Each operation is O(1) for an array-based list, but O(log n) for the BList. A large list that does not change size. The getitem and setitem calls are O(1) for an array-based list, but O(log n) for the BList. In performance tests on a 10,000 element list, BLists exhibited a 50...\n",
      "PEP 204 -- Range Literals\n",
      "...list literals, creating a single list? E.g.: >>> [5, 6, 1:6, 7, 9] to create: [5, 6, 1, 2, 3, 4, 5, 7, 9] How should range literals interact with another proposed new feature, \"list comprehensions\" [2]? Specifically, should it be possible to create lists in list comprehensions? E.g.: >>> [x:y for x in (1, 2) y in (3, 4)] Should this example return a single list with multiple ranges: [1, 2, 1, 2, 3, 2, 2, 3] Or a list of lists, like so: [[1, 2], [1, 2, 3], [2]_, [2,...\n",
      "Python Special Interest Groups - Coordinator Resource Guide\n",
      "...list, including the membership. To change list options, visit: http://mail.python.org/mailman/admin/<sig-name> To change a subscriber's options, visit the listinfo page for the sig: http://mail.python.org/mailman/listinfo/<sig-name> and click on \"View Subscriber List\" or enter the user's address to go to the options page for the user. You can then use the list administrator's password to authorize option changes or unsubscribe the user. Finally, the list administra...\n",
      "PEP 225 -- Elementwise/Objectwise Operators\n",
      "...list/2000-July/108893.html http://www.python.org/pipermail/python-list/2000-July/108777.html http://www.python.org/pipermail/python-list/2000-July/108848.html http://www.python.org/pipermail/python-list/2000-July/109237.html http://www.python.org/pipermail/python-list/2000-July/109250.html http://www.python.org/pipermail/python-list/2000-July/109310.html http://www.python.org/pipermail/python-list/2000-July/109448.html http://www.python.org/pipermail/python-list/2000-July/109491.html http://www....\n",
      "Workgroups of the Python Software Foundation\n",
      "...list:sponsors at python.org Establishing resolution: Marketing Work Group Formed:August 2015 Mailing list:psf-marketing-wg at python.org Establishing resolution: RESOLVED, that the Python Software Foundation acknowledge the creation of the PSF Grants Workgroup to review proposals to the PSF for grants in support of conferences, training workshops, and related projects. Grants Work Group Formed:August 2015 Mailing List:psf-grants at python.org Establishing resolution: RES...\n",
      "PEP 3132 -- Extended Iterable Unpacking\n",
      "...list, but an iterable, it has to be converted to a list before being able to do slicing; to avoid creating this temporary list, one has to resort to it = iter(seq) first = it.next() rest = list(it) Specification A tuple (or list) on the left side of a simple assignment (unpacking is not defined for augmented assignment) may contain at most one expression prepended with a single asterisk (which is henceforth called a \"starred\" expression, while the other expressions in the list are called \"ma...\n",
      "Structured Text Formatting Rules\n",
      "...list (bullet) element. (Note: In list paragraphs it is not necessary to separate each list item with a blank line.) A paragraph that begins with a sequence of digits followed by a white-space character is treated as an ordered list element. A paragraph that begins with a sequence of sequences, where each sequence is a sequence of digits or a sequence of letters followed by a period, is treated as an ordered l...\n",
      "PEP 202 -- List Comprehensions\n",
      "...List Comprehensions PEP:202 Title:List Comprehensions Author:barry at python.org (Barry Warsaw) Status:Final Type:Standards Track Created:13-Jul-2000 Python-Version:2.0 Post-History: Contents Introduction The Proposed Solution Rationale Examples Reference Implementation BDFL Pronouncements References Introduction This PEP describes a proposed syntactical extension to Python, list comprehensions. The Proposed Solution It is proposed to allow conditional construction of lis...\n",
      "PEP 274 -- Dict Comprehensions\n",
      "...list comprehension\". This PEP proposes a similar syntactical extension called the \"dictionary comprehension\" or \"dict comprehension\" for short. You can use dict comprehensions in ways very similar to list comprehensions, except that they produce Python dictionary objects instead of list objects. Resolution This PEP was originally written for inclusion in Python 2.3. It was withdrawn after observation that substantially all of its benefits were subsumed by generator expressions coupled with ...\n",
      "PEP 469 -- Migration of dict iteration code to Python 3\n",
      "...listvalues and listitems helper functions, allowing the affected conversions to be simplified to: d.values() -> listvalues(d) d.items() -> listitems(d) The corresponding compatibility function definitions are as straightforward as their iterator counterparts: try: dict.iteritems except AttributeError: # Python 3 def listvalues(d): return list(d.values()) def listitems(d): return list(d.items()) else: # Python 2 def listvalues(d): return d....\n",
      "PEP 289 -- Generator Expressions\n",
      "...list] ')' changes to: atom: '(' [testlist_gexp] ')' where testlist_gexp is almost the same as listmaker, but only allows a single test after 'for' ... 'in': testlist_gexp: test ( gen_for | (',' test)* [','] ) The rule for arglist needs similar changes. This means that you can write: sum(x**2 for x in range(10)) but you would have to write: reduce(operator.add, (x**2 for x in range(10))) and also: g = (x**2 for x in range(10)) i.e. if a function call has a single positional argument...\n",
      "PEP 270 -- uniq method for list objects\n",
      "...list. As described in PEP 218, sets are being added to the standard library for Python 2.3. Abstract This PEP proposes adding a method for removing duplicate elements to the list object. Rationale Removing duplicates from a list is a common task. I think it is useful and general enough to belong as a method in list objects. It also has potential for faster execution when implemented in C, especially if optimization using hashing or sorted cannot be used. On comp.lang.python there are many, ...\n",
      "String-SIG - SIG on Enhancement of Python String Processing\n",
      "...list will be rejected, but the archives of the old list are still available for perusal. See the SIGs home page for info about active and inactive lists. This is forum for discussion of ideas, designs, and implementations of enhancements to Python's string processing capabilities. In particular, this list helped develop a new implementation of regular expression pattern matching capabilities with a compatable syntax to Perl. ...\n",
      "Progenv SIG - Python programming-environment issues\n"
     ]
    },
    {
     "name": "stdout",
     "output_type": "stream",
     "text": [
      "...list will be rejected, but the archives of the old list are still available for perusal. See the SIGs home page for info about active and inactive lists. This list was intended for the discussion of the issues concerning the Python programming environment - the facilities, including editors, interpreter, debuggers, browsers, documentation, and so forth, instrumental in the actual act of Python programming. Discussions may cover use of and problems with existing facilitie...\n",
      "Python Software Foundation: Minutes of Board of Directors Meeting (February 8, 2005)\n",
      "...list policy The board discussed whether people other that board members or officers should be subscribed to the psf-board mailing list. The foundation lawyer raised a concern about privileged communication with the board, because regular members were also on that list. There was also some concern that sensitive communicates might want to be limited to current board members. RESOLVED that subscribers to the psf-board mailing list be officers or directors of the corporation or the corporation ...\n"
     ]
    }
   ],
   "source": [
    "# from selenium import webdriver\n",
    "# from selenium.webdriver.common.keys import Keys\n",
    "# /Users/dawn/Downloads/chromedriver\n",
    "driver = webdriver.Chrome(chrome_driver_path)\n",
    "driver.implicitly_wait(10)\n",
    "url = \"https://www.python.org/downloads/\"\n",
    "driver.get(url)\n",
    "# python:\n",
    "keyword = driver.find_element_by_css_selector(\"#id-search-field\")\n",
    "# print(keyword)\n",
    "# print(type(keyword))\n",
    "\n",
    "#fakebox-input\n",
    "keyword.send_keys(\"list\")\n",
    "keyword.send_keys(Keys.ENTER)\n",
    "time.sleep(5)\n",
    "# print(driver.find_element_by_tag_name(\"li\").text)\n",
    "print(\"=====================\")\n",
    "items = driver.find_elements_by_xpath(\"//ul[@class='list-recent-events menu']/li\")\n",
    "for item in items:\n",
    "    print(item.text)\n",
    "driver.quit()"
   ]
  },
  {
   "cell_type": "code",
   "execution_count": null,
   "metadata": {},
   "outputs": [],
   "source": [
    "# https://hd.stheadline.com/news/realtime/%E5%8D%B3%E6%99%82/"
   ]
  },
  {
   "cell_type": "code",
   "execution_count": 14,
   "metadata": {},
   "outputs": [],
   "source": [
    "from selenium import webdriver\n",
    "from selenium.webdriver.common.keys import Keys\n",
    "# /Users/dawn/Downloads/chromedriver\n",
    "driver = webdriver.Chrome(chrome_driver_path)\n",
    "driver.implicitly_wait(10)\n",
    "# url = \"https://www.python.org/downloads/\"\n",
    "url = \"https://hd.stheadline.com/news/realtime/%E5%8D%B3%E6%99%82/\"\n",
    "driver.get(url)\n",
    "html = driver.page_source\n",
    "driver.quit()"
   ]
  },
  {
   "cell_type": "code",
   "execution_count": 47,
   "metadata": {},
   "outputs": [],
   "source": [
    "soup = bs(html,\"lxml\")"
   ]
  },
  {
   "cell_type": "code",
   "execution_count": 1,
   "metadata": {
    "scrolled": true
   },
   "outputs": [],
   "source": [
    "# soup.select(\"h4\")"
   ]
  },
  {
   "cell_type": "code",
   "execution_count": 16,
   "metadata": {},
   "outputs": [],
   "source": [
    "# pip install -U fake-useragent \n",
    "import requests\n",
    "from fake_useragent import UserAgent \n",
    "ua = UserAgent()\n",
    "header = ua.chrome\n",
    "headers = {'user-agent': header}\n",
    "res = requests.get(\"https://hd.stheadline.com/news/realtime/%E5%8D%B3%E6%99%82/\", headers=headers)"
   ]
  },
  {
   "cell_type": "code",
   "execution_count": 16,
   "metadata": {},
   "outputs": [
    {
     "data": {
      "text/plain": [
       "{'user-agent': 'Mozilla/5.0 (Windows NT 10.0; Win64; x64) AppleWebKit/537.36 (KHTML, like Gecko) Chrome/70.0.3538.77 Safari/537.36', 'Accept-Encoding': 'gzip, deflate', 'Accept': '*/*', 'Connection': 'keep-alive'}"
      ]
     },
     "execution_count": 16,
     "metadata": {},
     "output_type": "execute_result"
    }
   ],
   "source": [
    "res.request.headers"
   ]
  },
  {
   "cell_type": "code",
   "execution_count": 51,
   "metadata": {},
   "outputs": [],
   "source": [
    "soup = bs(res.text,\"lxml\")"
   ]
  },
  {
   "cell_type": "code",
   "execution_count": 52,
   "metadata": {
    "scrolled": true
   },
   "outputs": [
    {
     "data": {
      "text/plain": [
       "[<h4><a alt=\"【Kelly Online】謠傳實施外匯管制 金管局:市民勿跟車太貼 小心核實訊息\" href=\"/news/realtime/hk/1784464/即時-港聞-Kelly-Online-謠傳實施外匯管制-金管局-市民勿跟車太貼-小心核實訊息\" title=\"【Kelly Online】謠傳實施外匯管制 金管局:市民勿跟車太貼 小心核實訊息\">【Kelly Online】謠傳實施外匯管制 金管局:市民勿跟車太貼 小心核實訊息</a></h4>,\n",
       " <h4><a alt=\"遇劫身亡女廚師工作勤奮人緣好 被搶金鏈為生日禮物\" href=\"/news/realtime/hk/1784419/即時-港聞-遇劫身亡女廚師工作勤奮人緣好-被搶金鏈為生日禮物\" title=\"遇劫身亡女廚師工作勤奮人緣好 被搶金鏈為生日禮物\">遇劫身亡女廚師工作勤奮人緣好 被搶金鏈為生日禮物</a></h4>,\n",
       " <h4><a alt=\"【Kelly Online】何啟明轉跑道 鄧家彪擬出戰九龍東\" href=\"/news/realtime/hk/1784458/即時-港聞-Kelly-Online-何啟明轉跑道-鄧家彪擬出戰九龍東\" title=\"【Kelly Online】何啟明轉跑道 鄧家彪擬出戰九龍東\">【Kelly Online】何啟明轉跑道 鄧家彪擬出戰九龍東</a></h4>,\n",
       " <h4><a alt=\"交通警執勤期間遺失胡椒噴劑 籲拾獲者歸還\" href=\"/news/realtime/hk/1784452/即時-港聞-交通警執勤期間遺失胡椒噴劑-籲拾獲者歸還\" title=\"交通警執勤期間遺失胡椒噴劑 籲拾獲者歸還\">交通警執勤期間遺失胡椒噴劑 籲拾獲者歸還</a></h4>,\n",
       " <h4><a alt=\"【開心速遞】龔燁求婚熊若水成功　張景淳呂慧儀晒蜜照\" href=\"/life/ent/realtime/1784404/即時-娛樂-開心速遞-龔燁求婚熊若水成功-張景淳呂慧儀晒蜜照\" title=\"【開心速遞】龔燁求婚熊若水成功　張景淳呂慧儀晒蜜照\">【開心速遞】龔燁求婚熊若水成功　張景淳呂慧儀晒蜜照</a></h4>,\n",
       " <h4><a alt=\"不滿未經何家同意公佈拍賭王傳　何超儀斥有違道德\" href=\"/life/ent/realtime/1784398/即時-娛樂-不滿未經何家同意公佈拍賭王傳-何超儀斥有違道德\" title=\"不滿未經何家同意公佈拍賭王傳　何超儀斥有違道德\">不滿未經何家同意公佈拍賭王傳　何超儀斥有違道德</a></h4>,\n",
       " <h4><a alt=\"【一日三餐】柳海真巨鯛迎光洙登場　李瑞鎮落實當壓軸嘉賓\" href=\"/life/ent/realtime/1784380/即時-娛樂-一日三餐-柳海真巨鯛迎光洙登場-李瑞鎮落實當壓軸嘉賓\" title=\"【一日三餐】柳海真巨鯛迎光洙登場　李瑞鎮落實當壓軸嘉賓\">【一日三餐】柳海真巨鯛迎光洙登場　李瑞鎮落實當壓軸嘉賓</a></h4>,\n",
       " <h4><a alt=\"離婚不涉第三者　陳昭昭自爆不乏追求者\" href=\"/life/ent/realtime/1784359/即時-娛樂-離婚不涉第三者-陳昭昭自爆不乏追求者\" title=\"離婚不涉第三者　陳昭昭自爆不乏追求者\">離婚不涉第三者　陳昭昭自爆不乏追求者</a></h4>,\n",
       " <h4><a alt=\"甘肅再現非洲豬瘟 中國今年內第14宗\" href=\"/news/realtime/chi/1784461/即時-中國-甘肅再現非洲豬瘟-中國今年內第14宗\" title=\"甘肅再現非洲豬瘟 中國今年內第14宗\">甘肅再現非洲豬瘟 中國今年內第14宗</a></h4>,\n",
       " <h4><a alt=\"四川工人被困塌陷隧道7日獲救 靠洞內積水維生\" href=\"/news/realtime/chi/1784434/即時-中國-四川工人被困塌陷隧道7日獲救-靠洞內積水維生\" title=\"四川工人被困塌陷隧道7日獲救 靠洞內積水維生\">四川工人被困塌陷隧道7日獲救 靠洞內積水維生</a></h4>,\n",
       " <h4><a alt=\"台灣花蓮發生黎克特制4.8級地震\" href=\"/news/realtime/chi/1784425/即時-中國-台灣花蓮發生黎克特制4-8級地震\" title=\"台灣花蓮發生黎克特制4.8級地震\">台灣花蓮發生黎克特制4.8級地震</a></h4>,\n",
       " <h4><a alt=\"避疫獨留健身營3個月 黑龍江男減75公斤\" href=\"/news/realtime/chi/1784392/即時-中國-避疫獨留健身營3個月-黑龍江男減75公斤\" title=\"避疫獨留健身營3個月 黑龍江男減75公斤\">避疫獨留健身營3個月 黑龍江男減75公斤</a></h4>,\n",
       " <h4><a alt=\"以色列警員開槍擊斃一名巴勒斯坦男子\" href=\"/news/realtime/wo/1784449/即時-國際-以色列警員開槍擊斃一名巴勒斯坦男子\" title=\"以色列警員開槍擊斃一名巴勒斯坦男子\">以色列警員開槍擊斃一名巴勒斯坦男子</a></h4>,\n",
       " <h4><a alt=\"奧克蘭聯邦保護局人員遭槍殺 衝突蔓延全美20多個城市\" href=\"/news/realtime/wo/1784440/即時-國際-奧克蘭聯邦保護局人員遭槍殺-衝突蔓延全美20多個城市\" title=\"奧克蘭聯邦保護局人員遭槍殺 衝突蔓延全美20多個城市\">奧克蘭聯邦保護局人員遭槍殺 衝突蔓延全美20多個城市</a></h4>,\n",
       " <h4><a alt=\"稱「新冠病毒像妻子」難控制 印尼部長被批性別歧視\" href=\"/news/realtime/wo/1784422/即時-國際-稱-新冠病毒像妻子-難控制-印尼部長被批性別歧視\" title=\"稱「新冠病毒像妻子」難控制 印尼部長被批性別歧視\">稱「新冠病毒像妻子」難控制 印尼部長被批性別歧視</a></h4>,\n",
       " <h4><a alt=\"地上現「小短腿」 印度村民挖出一名被活埋男嬰\" href=\"/news/realtime/wo/1784401/即時-國際-地上現-小短腿-印度村民挖出一名被活埋男嬰\" title=\"地上現「小短腿」 印度村民挖出一名被活埋男嬰\">地上現「小短腿」 印度村民挖出一名被活埋男嬰</a></h4>,\n",
       " <h4><a alt=\"【有影片】將軍澳新盤亮燈 「閃耀康城」\" href=\"/news/realtime/pp/1784455/即時-地產-有影片-將軍澳新盤亮燈-閃耀康城\" title=\"【有影片】將軍澳新盤亮燈 「閃耀康城」\">【有影片】將軍澳新盤亮燈 「閃耀康城」</a></h4>,\n",
       " <h4><a alt=\"美國政府喑盤放售壽臣山豪宅\" href=\"/news/realtime/pp/1784389/即時-地產-美國政府喑盤放售壽臣山豪宅\" title=\"美國政府喑盤放售壽臣山豪宅\">美國政府喑盤放售壽臣山豪宅</a></h4>,\n",
       " <h4><a alt=\"河畔連天台戶呎售2.12萬 屋苑今年以來新高\" href=\"/news/realtime/pp/1784335/即時-地產-河畔連天台戶呎售2-12萬-屋苑今年以來新高\" title=\"河畔連天台戶呎售2.12萬 屋苑今年以來新高\">河畔連天台戶呎售2.12萬 屋苑今年以來新高</a></h4>,\n",
       " <h4><a alt=\"尚悅3房760萬易主\" href=\"/news/realtime/pp/1784272/即時-地產-尚悅3房760萬易主\" title=\"尚悅3房760萬易主\">尚悅3房760萬易主</a></h4>,\n",
       " <h4><a alt=\"【新股速遞】移卡下周一掛牌 暗盤跌9.7%收報15.02元\" href=\"/news/realtime/fin/1783939/即時-財經-新股速遞-移卡下周一掛牌-暗盤跌9-7-收報15-02元\" title=\"【新股速遞】移卡下周一掛牌 暗盤跌9.7%收報15.02元\">【新股速遞】移卡下周一掛牌 暗盤跌9.7%收報15.02元</a></h4>,\n",
       " <h4><a alt=\"【3969】中國通號近3月已中標6個項目\" href=\"/news/realtime/fin/1783906/即時-財經-3969-中國通號近3月已中標6個項目\" title=\"【3969】中國通號近3月已中標6個項目\">【3969】中國通號近3月已中標6個項目</a></h4>,\n",
       " <h4><a alt=\"即月恒指夜期初段報22779 升10點\" href=\"/news/realtime/fin/1783897/即時-財經-即月恒指夜期初段報22779-升10點\" title=\"即月恒指夜期初段報22779 升10點\">即月恒指夜期初段報22779 升10點</a></h4>,\n",
       " <h4><a alt=\"歐洲主要股市初段下跌\" href=\"/news/realtime/fin/1783894/即時-財經-歐洲主要股市初段下跌\" title=\"歐洲主要股市初段下跌\">歐洲主要股市初段下跌</a></h4>,\n",
       " <h4><a alt=\"國際米蘭證「山神」留隊至季尾\" href=\"/news/realtime/spt/1784218/即時-體育-國際米蘭證-山神-留隊至季尾\" title=\"國際米蘭證「山神」留隊至季尾\">國際米蘭證「山神」留隊至季尾</a></h4>,\n",
       " <h4><a alt=\"足總洩密風波續發酵 伍健貝鈞奇各執一詞\" href=\"/news/realtime/spt/1784011/即時-體育-足總洩密風波續發酵-伍健貝鈞奇各執一詞\" title=\"足總洩密風波續發酵 伍健貝鈞奇各執一詞\">足總洩密風波續發酵 伍健貝鈞奇各執一詞</a></h4>,\n",
       " <h4><a alt=\"英西意六月回歸 曼城槍手打頭陣\" href=\"/news/realtime/spt/1783954/即時-體育-英西意六月回歸-曼城槍手打頭陣\" title=\"英西意六月回歸 曼城槍手打頭陣\">英西意六月回歸 曼城槍手打頭陣</a></h4>,\n",
       " <h4><a alt=\"波馬因疫情歷來首次取消 九月辦虛疑賽獎牌照頒\" href=\"/news/realtime/spt/1783891/即時-體育-波馬因疫情歷來首次取消-九月辦虛疑賽獎牌照頒\" title=\"波馬因疫情歷來首次取消 九月辦虛疑賽獎牌照頒\">波馬因疫情歷來首次取消 九月辦虛疑賽獎牌照頒</a></h4>]"
      ]
     },
     "execution_count": 52,
     "metadata": {},
     "output_type": "execute_result"
    }
   ],
   "source": [
    "soup.select(\"h4\")"
   ]
  },
  {
   "cell_type": "code",
   "execution_count": 17,
   "metadata": {},
   "outputs": [],
   "source": [
    "# ua"
   ]
  },
  {
   "cell_type": "code",
   "execution_count": 18,
   "metadata": {
    "scrolled": true
   },
   "outputs": [
    {
     "name": "stdout",
     "output_type": "stream",
     "text": [
      "=====================\n",
      "Python Special Interest Groups - Guidelines\n",
      "...list. This will be the person who manages specifics of the mailing list, such as subscribe/unsubscribe approvals (if necessary), approving held posts, etc. There is always a real person on the other end of this address, so if you need to contact a human being, this is the address to use. Mailing List Policy Each mailing list has a policy for such things as who can join the list, or post messages, etc. In general all SIG lists have the following (fairly lax) policy. SIG owners are given th...\n",
      "PEP 585 -- Type Hinting Generics In Standard Collections\n",
      "...list[str]() [] >>> list is list[str] False >>> list == list[str] False >>> list[str] == list[str] True >>> list[str] == list[int] False >>> isinstance([1, 2, 3], list[str]) TypeError: isinstance() arg 2 cannot be a parameterized generic >>> issubclass(list, list[str]) TypeError: issubclass() arg 2 cannot be a parameterized generic >>> isinstance(list[str], types.GenericAlias) True Objects created with bare types and parameterized ty...\n",
      "Mailing Lists\n",
      "...Lists Python Mailing Lists and Newsgroups Here's an overview of the mail and news resources for python. For a complete listing of python.org's public mailing lists, check both lists hosted on Mailman 2 and lists hosted on Mailman 3. To request a new list, send e-mail to postmaster @ python.org; please check first to make sure a similar list does not already exist. Mailing lists for users speaking languages other than English are listed in the non-english python resources guide, which incl...\n",
      "Python Patterns - An Optimization Anecdote\n",
      "...list [97, 98, 99] should be converted to the string 'abc'. Let's assume we want to write a function to do this. The first version I came up with was totally straightforward: def f1(list): string = \"\" for item in list: string = string + chr(item) return string That can't be the fastest way to do it, said my friend. How about this one: def f2(list): return reduce(lambda string, item: string + chr(item), list, \"\") ...\n",
      "Python Core Mentorship\n",
      "...list (signup there) The list archives (The current archive is only available to the list members.) The Python Developer's Guide should be your first stop - we will be adding to it based on feedback from the mentorship list The Python bug tracker you're going to want to bookmark it. The python-dev mailing list The python-ideas mailing list Code of Conduct The following code of conduct is not meant as a means for punishment, action or censorship for the mailing list or project. Instead, it is m...\n",
      "PEP 3128 -- BList: A Faster List-like Type\n",
      "...lists, there are two common uses cases where the existing array-based list outperforms the existing BList reference implementation. These are: A large LIFO stack, where there are many .append() and .pop(-1) operations. Each operation is O(1) for an array-based list, but O(log n) for the BList. A large list that does not change size. The getitem and setitem calls are O(1) for an array-based list, but O(log n) for the BList. In performance tests on a 10,000 element list, BLists exhibited a 50...\n",
      "PEP 204 -- Range Literals\n",
      "...list literals, creating a single list? E.g.: >>> [5, 6, 1:6, 7, 9] to create: [5, 6, 1, 2, 3, 4, 5, 7, 9] How should range literals interact with another proposed new feature, \"list comprehensions\" [2]? Specifically, should it be possible to create lists in list comprehensions? E.g.: >>> [x:y for x in (1, 2) y in (3, 4)] Should this example return a single list with multiple ranges: [1, 2, 1, 2, 3, 2, 2, 3] Or a list of lists, like so: [[1, 2], [1, 2, 3], [2]_, [2,...\n",
      "Python Special Interest Groups - Coordinator Resource Guide\n",
      "...list, including the membership. To change list options, visit: http://mail.python.org/mailman/admin/<sig-name> To change a subscriber's options, visit the listinfo page for the sig: http://mail.python.org/mailman/listinfo/<sig-name> and click on \"View Subscriber List\" or enter the user's address to go to the options page for the user. You can then use the list administrator's password to authorize option changes or unsubscribe the user. Finally, the list administra...\n",
      "PEP 225 -- Elementwise/Objectwise Operators\n",
      "...list/2000-July/108893.html http://www.python.org/pipermail/python-list/2000-July/108777.html http://www.python.org/pipermail/python-list/2000-July/108848.html http://www.python.org/pipermail/python-list/2000-July/109237.html http://www.python.org/pipermail/python-list/2000-July/109250.html http://www.python.org/pipermail/python-list/2000-July/109310.html http://www.python.org/pipermail/python-list/2000-July/109448.html http://www.python.org/pipermail/python-list/2000-July/109491.html http://www....\n",
      "Workgroups of the Python Software Foundation\n",
      "...list:sponsors at python.org Establishing resolution: Marketing Work Group Formed:August 2015 Mailing list:psf-marketing-wg at python.org Establishing resolution: RESOLVED, that the Python Software Foundation acknowledge the creation of the PSF Grants Workgroup to review proposals to the PSF for grants in support of conferences, training workshops, and related projects. Grants Work Group Formed:August 2015 Mailing List:psf-grants at python.org Establishing resolution: RES...\n",
      "PEP 3132 -- Extended Iterable Unpacking\n",
      "...list, but an iterable, it has to be converted to a list before being able to do slicing; to avoid creating this temporary list, one has to resort to it = iter(seq) first = it.next() rest = list(it) Specification A tuple (or list) on the left side of a simple assignment (unpacking is not defined for augmented assignment) may contain at most one expression prepended with a single asterisk (which is henceforth called a \"starred\" expression, while the other expressions in the list are called \"ma...\n",
      "Structured Text Formatting Rules\n",
      "...list (bullet) element. (Note: In list paragraphs it is not necessary to separate each list item with a blank line.) A paragraph that begins with a sequence of digits followed by a white-space character is treated as an ordered list element. A paragraph that begins with a sequence of sequences, where each sequence is a sequence of digits or a sequence of letters followed by a period, is treated as an ordered l...\n",
      "PEP 202 -- List Comprehensions\n",
      "...List Comprehensions PEP:202 Title:List Comprehensions Author:barry at python.org (Barry Warsaw) Status:Final Type:Standards Track Created:13-Jul-2000 Python-Version:2.0 Post-History: Contents Introduction The Proposed Solution Rationale Examples Reference Implementation BDFL Pronouncements References Introduction This PEP describes a proposed syntactical extension to Python, list comprehensions. The Proposed Solution It is proposed to allow conditional construction of lis...\n",
      "PEP 274 -- Dict Comprehensions\n",
      "...list comprehension\". This PEP proposes a similar syntactical extension called the \"dictionary comprehension\" or \"dict comprehension\" for short. You can use dict comprehensions in ways very similar to list comprehensions, except that they produce Python dictionary objects instead of list objects. Resolution This PEP was originally written for inclusion in Python 2.3. It was withdrawn after observation that substantially all of its benefits were subsumed by generator expressions coupled with ...\n",
      "PEP 469 -- Migration of dict iteration code to Python 3\n",
      "...listvalues and listitems helper functions, allowing the affected conversions to be simplified to: d.values() -> listvalues(d) d.items() -> listitems(d) The corresponding compatibility function definitions are as straightforward as their iterator counterparts: try: dict.iteritems except AttributeError: # Python 3 def listvalues(d): return list(d.values()) def listitems(d): return list(d.items()) else: # Python 2 def listvalues(d): return d....\n",
      "PEP 289 -- Generator Expressions\n",
      "...list] ')' changes to: atom: '(' [testlist_gexp] ')' where testlist_gexp is almost the same as listmaker, but only allows a single test after 'for' ... 'in': testlist_gexp: test ( gen_for | (',' test)* [','] ) The rule for arglist needs similar changes. This means that you can write: sum(x**2 for x in range(10)) but you would have to write: reduce(operator.add, (x**2 for x in range(10))) and also: g = (x**2 for x in range(10)) i.e. if a function call has a single positional argument...\n",
      "PEP 270 -- uniq method for list objects\n",
      "...list. As described in PEP 218, sets are being added to the standard library for Python 2.3. Abstract This PEP proposes adding a method for removing duplicate elements to the list object. Rationale Removing duplicates from a list is a common task. I think it is useful and general enough to belong as a method in list objects. It also has potential for faster execution when implemented in C, especially if optimization using hashing or sorted cannot be used. On comp.lang.python there are many, ...\n",
      "String-SIG - SIG on Enhancement of Python String Processing\n",
      "...list will be rejected, but the archives of the old list are still available for perusal. See the SIGs home page for info about active and inactive lists. This is forum for discussion of ideas, designs, and implementations of enhancements to Python's string processing capabilities. In particular, this list helped develop a new implementation of regular expression pattern matching capabilities with a compatable syntax to Perl. ...\n",
      "Progenv SIG - Python programming-environment issues\n",
      "...list will be rejected, but the archives of the old list are still available for perusal. See the SIGs home page for info about active and inactive lists. This list was intended for the discussion of the issues concerning the Python programming environment - the facilities, including editors, interpreter, debuggers, browsers, documentation, and so forth, instrumental in the actual act of Python programming. Discussions may cover use of and problems with existing facilitie...\n",
      "Python Software Foundation: Minutes of Board of Directors Meeting (February 8, 2005)\n",
      "...list policy The board discussed whether people other that board members or officers should be subscribed to the psf-board mailing list. The foundation lawyer raised a concern about privileged communication with the board, because regular members were also on that list. There was also some concern that sensitive communicates might want to be limited to current board members. RESOLVED that subscribers to the psf-board mailing list be officers or directors of the corporation or the corporation ...\n"
     ]
    }
   ],
   "source": [
    "### selenium\n",
    "### 讓螢幕隱藏起來(可以把selenium放在linux上跑、隱藏螢幕花費更少時間)\n",
    "### 加入headers\n",
    "\n",
    "\n",
    "from selenium.webdriver.chrome.options import Options\n",
    "\n",
    "options = Options() \n",
    "options.add_argument('--headless') ###螢幕隱藏\n",
    "options.add_argument(\"user-agent=\" + header) ### 加入headers\n",
    "driver = webdriver.Chrome(chrome_driver_path, options=options)\n",
    "driver.implicitly_wait(10)\n",
    "\n",
    "url = \"https://www.python.org/downloads/\"\n",
    "driver.get(url)\n",
    "# python:\n",
    "keyword = driver.find_element_by_css_selector(\"#id-search-field\")\n",
    "# print(keyword)\n",
    "# print(type(keyword))\n",
    "\n",
    "#fakebox-input\n",
    "keyword.send_keys(\"list\")\n",
    "keyword.send_keys(Keys.ENTER)\n",
    "time.sleep(5)\n",
    "# print(driver.find_element_by_tag_name(\"li\").text)\n",
    "print(\"=====================\")\n",
    "items = driver.find_elements_by_xpath(\"//ul[@class='list-recent-events menu']/li\")\n",
    "for item in items:\n",
    "    print(item.text)\n",
    "driver.quit()"
   ]
  },
  {
   "cell_type": "code",
   "execution_count": null,
   "metadata": {},
   "outputs": [],
   "source": [
    "### 有時候selenium有可能抓不到元素，因為頁面未跑完，可以試試\n",
    "### 參考使用 等待元素出現\n",
    "# https://blog.csdn.net/weixin_34392906/article/details/93395749"
   ]
  }
 ],
 "metadata": {
  "kernelspec": {
   "display_name": "Python 3",
   "language": "python",
   "name": "python3"
  },
  "language_info": {
   "codemirror_mode": {
    "name": "ipython",
    "version": 3
   },
   "file_extension": ".py",
   "mimetype": "text/x-python",
   "name": "python",
   "nbconvert_exporter": "python",
   "pygments_lexer": "ipython3",
   "version": "3.7.4"
  }
 },
 "nbformat": 4,
 "nbformat_minor": 2
}
