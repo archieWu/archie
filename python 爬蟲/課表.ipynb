{
 "cells": [
  {
   "cell_type": "code",
   "execution_count": 1,
   "metadata": {},
   "outputs": [],
   "source": [
    "from selenium import webdriver\n",
    "from selenium.webdriver.common.keys import Keys\n",
    "from selenium.webdriver.chrome.options import Options\n",
    "from fake_useragent import UserAgent\n",
    "import time\n",
    "import requests\n",
    "import json\n",
    "from bs4 import BeautifulSoup as bs\n",
    "from lxml import html\n",
    "from lxml import cssselect\n",
    "\n",
    "chrome_driver_path = \"C:/Users/d2684/OneDrive/桌面/課程檔案/python_爬蟲/chromedriver\"\n",
    "\n",
    "\n",
    "driver = webdriver.Chrome(chrome_driver_path)\n",
    "driver.implicitly_wait(10)\n",
    "url = \"http://ntc.im/2a1/cs/login.html\"\n",
    "driver.get(url)\n",
    "Username = driver.find_element_by_css_selector(\"#form-username\")\n",
    "Username.send_keys(\"2a1\")\n",
    "Password = driver.find_element_by_css_selector(\"#form-password\")\n",
    "Password.send_keys(\"j2ee\")\n",
    "driver.find_element_by_css_selector(\"body > div.top-content > div > div > div:nth-child(2) > div > div.form-bottom > form > button\").click()"
   ]
  }
 ],
 "metadata": {
  "kernelspec": {
   "display_name": "Python 3",
   "language": "python",
   "name": "python3"
  },
  "language_info": {
   "codemirror_mode": {
    "name": "ipython",
    "version": 3
   },
   "file_extension": ".py",
   "mimetype": "text/x-python",
   "name": "python",
   "nbconvert_exporter": "python",
   "pygments_lexer": "ipython3",
   "version": "3.7.6"
  }
 },
 "nbformat": 4,
 "nbformat_minor": 4
}
