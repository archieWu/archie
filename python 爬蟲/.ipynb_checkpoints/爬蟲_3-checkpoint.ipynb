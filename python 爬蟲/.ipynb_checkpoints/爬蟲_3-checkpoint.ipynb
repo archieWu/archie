{
 "cells": [
  {
   "cell_type": "code",
   "execution_count": 74,
   "metadata": {},
   "outputs": [],
   "source": [
    "from selenium import webdriver\n",
    "from selenium.webdriver.common.keys import Keys\n",
    "from selenium.webdriver.chrome.options import Options\n",
    "from fake_useragent import UserAgent\n",
    "import time\n",
    "import requests\n",
    "import json\n",
    "from bs4 import BeautifulSoup as bs\n",
    "from lxml import html\n",
    "from lxml import cssselect\n"
   ]
  },
  {
   "cell_type": "code",
   "execution_count": 9,
   "metadata": {},
   "outputs": [],
   "source": [
    "chrome_driver_path = \"C:/Users/d2684/OneDrive/桌面/課程檔案/python_爬蟲/chromedriver\"\n",
    "driver = webdriver.Chrome(chrome_driver_path)\n",
    "time.sleep(5)\n",
    "driver.quit()"
   ]
  },
  {
   "cell_type": "code",
   "execution_count": 45,
   "metadata": {},
   "outputs": [],
   "source": [
    "# driver = webdriver.Chrome(chrome_driver_path)\n",
    "# driver.implicitly_wait(10)\n",
    "# driver.get(\"http://example.com/\")\n",
    "# print(driver.title)\n",
    "# html = driver.page_source\n",
    "# # time.sleep(10)\n",
    "# driver.quit()"
   ]
  },
  {
   "cell_type": "code",
   "execution_count": 44,
   "metadata": {},
   "outputs": [],
   "source": [
    "# driver = webdriver.Chrome(chrome_driver_path)\n",
    "# driver.implicitly_wait(10)\n",
    "# driver.get(\"https://hiskio.com/\")\n",
    "# print(driver.title)\n",
    "# html = driver.page_source\n",
    "# time.sleep(10)\n",
    "# driver.quit()"
   ]
  },
  {
   "cell_type": "code",
   "execution_count": 41,
   "metadata": {},
   "outputs": [],
   "source": [
    "# soup = bs(html,'lxml')\n",
    "# soup"
   ]
  },
  {
   "cell_type": "code",
   "execution_count": 42,
   "metadata": {
    "scrolled": true
   },
   "outputs": [],
   "source": [
    "# row_titles = soup.select('.course-body ')\n",
    "# for i in row_titles:\n",
    "#     print(i,'\\n')"
   ]
  },
  {
   "cell_type": "code",
   "execution_count": 43,
   "metadata": {},
   "outputs": [],
   "source": [
    "# results=[]\n",
    "# for i in row_titles:\n",
    "#     result={} \n",
    "#     result['subject'] = i.find('h4').text\n",
    "#     result['href'] = i.find('a').get('href')\n",
    "#     result['teacher'] = i.find('div','tchr-name-box').get('title')\n",
    "#     results.append(result)\n",
    "# results"
   ]
  },
  {
   "cell_type": "code",
   "execution_count": 70,
   "metadata": {},
   "outputs": [],
   "source": [
    "# driver = webdriver.Chrome(chrome_driver_path)\n",
    "# driver.implicitly_wait(10)\n",
    "# url = \"https://www.google.com/\"\n",
    "# driver.get(url)\n",
    "# keyword = driver.find_element_by_css_selector(\"#tsf > div:nth-child(2) > div.A8SBwf > div.RNNXgb > div > div.a4bIc > input\")\n",
    "# keyword.send_keys(\"list\")\n",
    "# keyword.send_keys(Keys.ENTER)\n",
    "# items = driver.find_elements_by_xpath(\"//div[@class='r']\")\n",
    "# # print(items)\n",
    "# for item in items:\n",
    "#     h3 = item.find_element_by_tag_name(\"h3\")\n",
    "#     print(h3.text)\n",
    "#     a = item.find_element_by_tag_name(\"a\")\n",
    "#     print(a.get_attribute(\"href\"))\n",
    "# driver.quit()\n"
   ]
  },
  {
   "cell_type": "code",
   "execution_count": 71,
   "metadata": {},
   "outputs": [],
   "source": [
    "# driver = webdriver.Chrome(chrome_driver_path)\n",
    "# driver.implicitly_wait(10)\n",
    "# url = \"https://www.python.org/\"\n",
    "# driver.get(url)\n",
    "# keyword = driver.find_element_by_css_selector(\"#id-search-field\")\n",
    "# keyword.send_keys(\"list\")\n",
    "# # keyword.send_keys(Keys.ENTER)\n",
    "# driver.find_element_by_css_selector(\"#submit\").click()\n",
    "# items = driver.find_elements_by_xpath(\"//ul[@class='list-recent-events menu']\")\n",
    "# for item in items:\n",
    "#     print(item.text)\n",
    "    \n",
    "# driver.quit()\n"
   ]
  },
  {
   "cell_type": "code",
   "execution_count": 72,
   "metadata": {},
   "outputs": [],
   "source": [
    "# driver = webdriver.Chrome(chrome_driver_path)\n",
    "# driver.implicitly_wait(10)\n",
    "# url = \"https://hd.stheadline.com/news/realtime/%E5%8D%B3%E6%99%82/\"\n",
    "# driver.get(url)\n",
    "# items = driver.find_elements_by_xpath(\"//div[@class='col-sm-6 col-md-3']/h4\")\n",
    "# for item in items:\n",
    "#     print(item.text)\n",
    "    \n",
    "# driver.quit()\n"
   ]
  },
  {
   "cell_type": "code",
   "execution_count": 73,
   "metadata": {},
   "outputs": [],
   "source": [
    "# res = requests.get('https://www.mobile01.com/')\n",
    "# res"
   ]
  },
  {
   "cell_type": "code",
   "execution_count": 76,
   "metadata": {},
   "outputs": [
    {
     "data": {
      "text/plain": [
       "{'User-Agent': 'python-requests/2.22.0', 'Accept-Encoding': 'gzip, deflate', 'Accept': '*/*', 'Connection': 'keep-alive'}"
      ]
     },
     "execution_count": 76,
     "metadata": {},
     "output_type": "execute_result"
    }
   ],
   "source": [
    "ua = UserAgent()\n",
    "header = ua.chrome\n",
    "headers = {'user-agent': header}\n",
    "res.request.headers\n"
   ]
  },
  {
   "cell_type": "code",
   "execution_count": 79,
   "metadata": {},
   "outputs": [],
   "source": [
    "res = requests.get('https://www.mobile01.com/', headers = headers)"
   ]
  },
  {
   "cell_type": "code",
   "execution_count": 80,
   "metadata": {},
   "outputs": [
    {
     "data": {
      "text/plain": [
       "<Response [200]>"
      ]
     },
     "execution_count": 80,
     "metadata": {},
     "output_type": "execute_result"
    }
   ],
   "source": [
    "res"
   ]
  },
  {
   "cell_type": "code",
   "execution_count": 81,
   "metadata": {},
   "outputs": [
    {
     "data": {
      "text/plain": [
       "requests.models.Response"
      ]
     },
     "execution_count": 81,
     "metadata": {},
     "output_type": "execute_result"
    }
   ],
   "source": [
    "type(res)"
   ]
  }
 ],
 "metadata": {
  "kernelspec": {
   "display_name": "Python 3",
   "language": "python",
   "name": "python3"
  },
  "language_info": {
   "codemirror_mode": {
    "name": "ipython",
    "version": 3
   },
   "file_extension": ".py",
   "mimetype": "text/x-python",
   "name": "python",
   "nbconvert_exporter": "python",
   "pygments_lexer": "ipython3",
   "version": "3.7.6"
  }
 },
 "nbformat": 4,
 "nbformat_minor": 4
}
