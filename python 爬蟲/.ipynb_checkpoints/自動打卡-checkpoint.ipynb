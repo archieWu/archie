{
 "cells": [
  {
   "cell_type": "code",
   "execution_count": 2,
   "metadata": {},
   "outputs": [],
   "source": [
    "from selenium import webdriver\n",
    "from selenium.webdriver.common.keys import Keys\n",
    "from selenium.webdriver.chrome.options import Options\n",
    "from fake_useragent import UserAgent\n",
    "import time\n",
    "import requests\n",
    "import json\n",
    "from bs4 import BeautifulSoup as bs\n",
    "from lxml import html\n",
    "from lxml import cssselect\n",
    "\n",
    "chrome_driver_path = \"C:/Users/d2684/OneDrive/桌面/課程檔案/python_爬蟲/chromedriver\"\n",
    "\n",
    "\n",
    "driver = webdriver.Chrome(chrome_driver_path)\n",
    "driver.implicitly_wait(10)\n",
    "url = \"http://ntc.im/2a1/time/timeclock.php\"\n",
    "driver.get(url)\n",
    "driver.find_element_by_css_selector(\"#wrapper > aside > section > form > div > div.box-body > div:nth-child(1) > select > option:nth-child(2)\").click()\n",
    "Password = driver.find_element_by_css_selector(\"#wrapper > aside > section > form > div > div.box-body > div:nth-child(2) > input\")\n",
    "Password.send_keys(\"0710\")\n",
    "driver.find_element_by_css_selector(\"#wrapper > aside > section > form > div > div.box-body > div:nth-child(3) > select > option:nth-child(4)\").click()\n",
    "driver.find_element_by_css_selector(\"#wrapper > aside > section > form > div > div.box-body > div:nth-child(6) > button\").click()\n"
   ]
  }
 ],
 "metadata": {
  "kernelspec": {
   "display_name": "Python 3",
   "language": "python",
   "name": "python3"
  },
  "language_info": {
   "codemirror_mode": {
    "name": "ipython",
    "version": 3
   },
   "file_extension": ".py",
   "mimetype": "text/x-python",
   "name": "python",
   "nbconvert_exporter": "python",
   "pygments_lexer": "ipython3",
   "version": "3.7.6"
  }
 },
 "nbformat": 4,
 "nbformat_minor": 4
}
